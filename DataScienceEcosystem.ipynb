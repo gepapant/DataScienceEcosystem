{
 "cells": [
  {
   "cell_type": "markdown",
   "id": "b51c5c41-e4be-44d7-a8f8-bcbb826c7b7b",
   "metadata": {},
   "source": [
    "#  Data Science Tools and Ecosystem"
   ]
  },
  {
   "cell_type": "markdown",
   "id": "f002c7f6-fa6e-4303-bcd4-6fa18ab7e96a",
   "metadata": {
    "tags": []
   },
   "source": [
    "## In this notebook, Data Science Tools and Ecosystem are summarized.\n",
    "### **Objectives**\n",
    "- Common Libraries\n",
    "- Popular Languages\n",
    "- Examples of Arithmeitic Expressions"
   ]
  },
  {
   "cell_type": "markdown",
   "id": "6131136c-15d6-4363-99f4-f6235527a791",
   "metadata": {
    "tags": []
   },
   "source": [
    "####  Some of the popular languages that Data Scientists use are:"
   ]
  },
  {
   "cell_type": "markdown",
   "id": "956b5cfd-60cb-44d2-96f6-abd3f7a22bd8",
   "metadata": {},
   "source": [
    "1. R\n",
    "2. Python\n",
    "3. SQL"
   ]
  },
  {
   "cell_type": "markdown",
   "id": "79bbd50b-ecef-42d8-b262-73e90b566925",
   "metadata": {},
   "source": [
    "#### Some of the commonly used libraries used by Data Scientists include:\n"
   ]
  },
  {
   "cell_type": "markdown",
   "id": "d39662a9-8b76-4ec5-8487-e78af53e3528",
   "metadata": {},
   "source": [
    "1. NymPy\n",
    "2. Pandas\n",
    "3. SQL"
   ]
  },
  {
   "cell_type": "markdown",
   "id": "eb66f9ff-1153-4ec6-9961-887d53d02b03",
   "metadata": {},
   "source": [
    "| Data Science Tools |\n",
    "|--------------------|\n",
    "| Knime              |\n",
    "| Spark              |\n",
    "| Pandas             |"
   ]
  },
  {
   "cell_type": "markdown",
   "id": "d1d1618b-de3a-4f12-9a3e-760f4ddfc591",
   "metadata": {},
   "source": [
    "### Below are a few examples of evaluating arithmetic expressions in Python"
   ]
  },
  {
   "cell_type": "markdown",
   "id": "2828df36-1b16-4fd5-b009-546ba44d35c4",
   "metadata": {
    "tags": []
   },
   "source": [
    "###### This a simple arithmetic expression to mutiply then add integers"
   ]
  },
  {
   "cell_type": "code",
   "execution_count": 2,
   "id": "38fb9f85-6cd4-4f02-af18-33f9527d63e2",
   "metadata": {
    "tags": []
   },
   "outputs": [
    {
     "data": {
      "text/plain": [
       "17"
      ]
     },
     "execution_count": 2,
     "metadata": {},
     "output_type": "execute_result"
    }
   ],
   "source": [
    "(3*4) + 5"
   ]
  },
  {
   "cell_type": "markdown",
   "id": "fc3faaea-1e41-4c82-94cc-86cdf55bdaf4",
   "metadata": {},
   "source": [
    "###### This will convert 200 minutes to hours by diving by 60"
   ]
  },
  {
   "cell_type": "code",
   "execution_count": 3,
   "id": "96e30573-e1cf-40a7-8503-0e58bf294ada",
   "metadata": {
    "tags": []
   },
   "outputs": [
    {
     "data": {
      "text/plain": [
       "3.3333333333333335"
      ]
     },
     "execution_count": 3,
     "metadata": {},
     "output_type": "execute_result"
    }
   ],
   "source": [
    "200/60"
   ]
  },
  {
   "cell_type": "markdown",
   "id": "8a879c18-1735-4f51-83a6-e3646fc20057",
   "metadata": {},
   "source": [
    "## Author\n",
    "###### George Papantoniou"
   ]
  },
  {
   "cell_type": "code",
   "execution_count": null,
   "id": "50179fc6-cfd0-45f0-83a8-b3101cef5e7a",
   "metadata": {},
   "outputs": [],
   "source": []
  }
 ],
 "metadata": {
  "kernelspec": {
   "display_name": "Python",
   "language": "python",
   "name": "conda-env-python-py"
  },
  "language_info": {
   "codemirror_mode": {
    "name": "ipython",
    "version": 3
   },
   "file_extension": ".py",
   "mimetype": "text/x-python",
   "name": "python",
   "nbconvert_exporter": "python",
   "pygments_lexer": "ipython3",
   "version": "3.7.12"
  }
 },
 "nbformat": 4,
 "nbformat_minor": 5
}
